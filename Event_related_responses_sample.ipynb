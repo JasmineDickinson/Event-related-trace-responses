{
 "cells": [
  {
   "cell_type": "code",
   "execution_count": null,
   "metadata": {
    "collapsed": true
   },
   "outputs": [],
   "source": [
    "import pandas as pd\n",
    "import numpy as np \n",
    "import matplotlib.pyplot as plt\n",
    "%matplotlib inline\n",
    "from matplotlib import style\n",
    "import seaborn as sns\n",
    "from itertools import combinations\n",
    "from decimal import Decimal\n",
    "import statsmodels.sandbox.stats.multicomp"
   ]
  },
  {
   "cell_type": "markdown",
   "metadata": {},
   "source": [
    "Make fake sample data. In this case 10,000 \"frames\" with corresponding random numbers between 1 and 20"
   ]
  },
  {
   "cell_type": "code",
   "execution_count": null,
   "metadata": {
    "collapsed": false
   },
   "outputs": [],
   "source": [
    "np.random.seed(seed=5)\n",
    "x = np.random.randint(1,21, size=(1, 10000)).tolist()[0]\n",
    "# print(x)\n",
    "# print(max(x))\n",
    "y = list(range(1,10001))\n",
    "# print(y)\n",
    "\n",
    "df = pd.DataFrame(\n",
    "    {'frame': y,\n",
    "     'df_f': x,\n",
    "    })"
   ]
  },
  {
   "cell_type": "markdown",
   "metadata": {},
   "source": [
    "Apply a sliding window average to smooth out some noise"
   ]
  },
  {
   "cell_type": "code",
   "execution_count": null,
   "metadata": {
    "collapsed": false,
    "scrolled": true
   },
   "outputs": [],
   "source": [
    "df['df_f_100'] = df['df_f'].rolling(window=100, center=True).mean()\n",
    "# print(df.head(10))"
   ]
  },
  {
   "cell_type": "markdown",
   "metadata": {},
   "source": [
    "Define function to get a range of frames around a given frame and variable values"
   ]
  },
  {
   "cell_type": "code",
   "execution_count": null,
   "metadata": {
    "collapsed": false
   },
   "outputs": [],
   "source": [
    "frame_value = np.random.randint(300,900, size=(1,10)).tolist()[0]\n",
    "frame_length = 20\n",
    "\n",
    "def subset_frame(data, frame_value, frame_length):\n",
    "    return data[(data['frame'] >= (frame_value - frame_length)) & (data['frame'] < (frame_value+frame_length))]"
   ]
  },
  {
   "cell_type": "markdown",
   "metadata": {},
   "source": [
    "Make dataframe for making a raster heatmap"
   ]
  },
  {
   "cell_type": "code",
   "execution_count": null,
   "metadata": {
    "collapsed": false
   },
   "outputs": [],
   "source": [
    "count = 1\n",
    "\n",
    "for i in range(len(frame_value)):\n",
    "    curr_fv = frame_value[i]\n",
    "    tmp = subset_frame(df,curr_fv,frame_length)\n",
    "    tmp['trial'] = count\n",
    "    count += 1\n",
    "    tmp['new_frame'] = range(1,(len(tmp)+1))\n",
    "    if i == 0:\n",
    "        df2 = tmp\n",
    "    else:\n",
    "        df2 = pd.concat([df2, tmp])\n",
    "        \n",
    "# print(df2)"
   ]
  },
  {
   "cell_type": "markdown",
   "metadata": {},
   "source": [
    "recast from long to wide"
   ]
  },
  {
   "cell_type": "code",
   "execution_count": null,
   "metadata": {
    "collapsed": false
   },
   "outputs": [],
   "source": [
    "df2 = df2.pivot(index='trial', columns='new_frame', values='df_f_100')\n",
    "# print(df2.head())"
   ]
  },
  {
   "cell_type": "code",
   "execution_count": null,
   "metadata": {
    "collapsed": false
   },
   "outputs": [],
   "source": [
    "df2[df2.columns[(frame_length):((frame_length)*2)]] += 2"
   ]
  },
  {
   "cell_type": "code",
   "execution_count": null,
   "metadata": {
    "collapsed": false
   },
   "outputs": [],
   "source": [
    "fig_size = [10,6]\n",
    "plt.rcParams[\"figure.figsize\"] = fig_size\n",
    "\n",
    "sns.heatmap(df2, yticklabels=False, xticklabels=False, cmap='inferno')"
   ]
  },
  {
   "cell_type": "markdown",
   "metadata": {},
   "source": [
    "Make data frame for plotting line chart"
   ]
  },
  {
   "cell_type": "code",
   "execution_count": null,
   "metadata": {
    "collapsed": false
   },
   "outputs": [],
   "source": [
    "count = 1\n",
    "\n",
    "for i in range(len(frame_value)):\n",
    "    curr_fv = frame_value[i]\n",
    "    tmp = subset_frame(df,curr_fv,frame_length)\n",
    "    tmp['new_frame'] = range((len(tmp)))\n",
    "    tmp = tmp[['df_f_100', 'new_frame']].copy()\n",
    "    tmp.rename(columns={'df_f_100': count}, inplace=True)\n",
    "    count += 1\n",
    "    if i == 0:\n",
    "        df3 = tmp\n",
    "    else:\n",
    "        df3 = df3.merge(tmp, left_on='new_frame', right_on='new_frame', how='left')\n",
    "\n",
    "df3.set_index('new_frame', inplace=True)\n",
    "\n",
    "# print(df3.head(3))"
   ]
  },
  {
   "cell_type": "markdown",
   "metadata": {},
   "source": [
    "Change your fake data to different fake data. Make the \"post event\" window have higher values than the \"pre event\" window so it looks like something happened at the event frame."
   ]
  },
  {
   "cell_type": "code",
   "execution_count": null,
   "metadata": {
    "collapsed": false
   },
   "outputs": [],
   "source": [
    "df3.iloc[21:25] += 1\n",
    "df3.iloc[25:30] += 2\n",
    "df3.iloc[30:41] += 1\n",
    "# print(df3.head())"
   ]
  },
  {
   "cell_type": "markdown",
   "metadata": {},
   "source": [
    "Make numpy arrays for graphing"
   ]
  },
  {
   "cell_type": "code",
   "execution_count": null,
   "metadata": {
    "collapsed": false
   },
   "outputs": [],
   "source": [
    "y = np.array(df3.mean(axis=1))\n",
    "y = np.round(y, 2)\n",
    "x = np.array(df3.index.values)\n",
    "e = np.array([df3.std(axis=1)[i]/np.sqrt(df3.shape[1]) for i in range(len(df3.std(axis=1)))])"
   ]
  },
  {
   "cell_type": "markdown",
   "metadata": {},
   "source": [
    "Define functions for making combinations and differences in means and p values, for a permutation test"
   ]
  },
  {
   "cell_type": "code",
   "execution_count": null,
   "metadata": {
    "collapsed": false
   },
   "outputs": [],
   "source": [
    "def make_combinations(v1, v2):\n",
    "    alls = np.concatenate((v1,v2))\n",
    "    N = len(alls)\n",
    "    n = len(v1)\n",
    "    M = np.array(range(N))\n",
    "    q = np.array(list(combinations(M,n)))\n",
    "    q = q[np.random.choice(q.shape[0], 1000, replace=False),:]\n",
    "    return q\n",
    "\n",
    "def make_dmeans(v1, v2, q):\n",
    "    alls = np.concatenate((v1,v2))\n",
    "    dmeans = np.empty(shape=[1,1000])\n",
    "    for i in range(len(q)):\n",
    "        dmeans[0,i] = np.mean(alls[q[i]]) - np.mean(alls[q[-i]])\n",
    "    dmeans = dmeans.tolist()[0]\n",
    "    return dmeans\n",
    "\n",
    "def p_value(true_mean_dif, dec_num):\n",
    "    pVal = (np.sum(dmeans <= -abs(true_mean_dif)) + np.sum(dmeans >= abs(true_mean_dif)))/1000\n",
    "    pVal = round((Decimal(pVal)),dec_num)\n",
    "    return pVal"
   ]
  },
  {
   "cell_type": "markdown",
   "metadata": {},
   "source": [
    "For each trial, average frames 1-15. This is the baseline vector population for comparing all other time points"
   ]
  },
  {
   "cell_type": "code",
   "execution_count": null,
   "metadata": {
    "collapsed": false
   },
   "outputs": [],
   "source": [
    "v1 = np.array(df3.loc[1:15].mean(axis=0))\n",
    "print(v1)\n",
    "print(len(v1))\n",
    "\n",
    "v2 = np.array(df3.loc[30])\n",
    "print(v2)\n",
    "print(len(v2))"
   ]
  },
  {
   "cell_type": "code",
   "execution_count": null,
   "metadata": {
    "collapsed": false
   },
   "outputs": [],
   "source": [
    "A = np.empty(shape=[(frame_length*2)-15])\n",
    "print(A)"
   ]
  },
  {
   "cell_type": "code",
   "execution_count": null,
   "metadata": {
    "collapsed": false
   },
   "outputs": [],
   "source": [
    "A = np.empty(shape=[(frame_length*2)-15])\n",
    "v1 = np.array(df3.loc[1:15].mean(axis=0))\n",
    "count = 0\n",
    "\n",
    "for i in range(15,40):   \n",
    "    np.random.seed(seed=5)\n",
    "    v2 = np.array(df3.loc[i])\n",
    "    q = make_combinations(v1,v2)\n",
    "    dmeans = make_dmeans(v1, v2, q)\n",
    "    d0 = np.mean(v1) - np.mean(v2)\n",
    "    A[count] = p_value(d0, 5)\n",
    "    count += 1\n",
    "print(A)"
   ]
  },
  {
   "cell_type": "markdown",
   "metadata": {},
   "source": [
    "correct pvals for multiple comparisons. Benjamini Hochberg"
   ]
  },
  {
   "cell_type": "code",
   "execution_count": null,
   "metadata": {
    "collapsed": false
   },
   "outputs": [],
   "source": [
    "A = statsmodels.sandbox.stats.multicomp.multipletests(A, alpha=0.05, method='fdr_bh', returnsorted=False)\n",
    "A = A[1]\n",
    "print(A)"
   ]
  },
  {
   "cell_type": "code",
   "execution_count": null,
   "metadata": {
    "collapsed": false
   },
   "outputs": [],
   "source": [
    "D = np.copy(y)\n",
    "print(D)"
   ]
  },
  {
   "cell_type": "code",
   "execution_count": null,
   "metadata": {
    "collapsed": false
   },
   "outputs": [],
   "source": [
    "# print(len(df3))\n",
    "# (len(df3) - len(A))\n",
    "\n",
    "B = np.empty(shape=[(len(df3) - len(A))])\n",
    "B[B == 0] = 'nan'\n",
    "print(B)"
   ]
  },
  {
   "cell_type": "code",
   "execution_count": null,
   "metadata": {
    "collapsed": false
   },
   "outputs": [],
   "source": [
    "C = np.concatenate((B,A), axis=0)\n",
    "print(C)"
   ]
  },
  {
   "cell_type": "code",
   "execution_count": null,
   "metadata": {
    "collapsed": false
   },
   "outputs": [],
   "source": [
    "for i in range(len(C)):\n",
    "    if C[i] > 0.05:\n",
    "        D[i] = 'nan'\n",
    "    elif C[i] <= 0.05:\n",
    "        D[i] = D[i]\n",
    "    else:\n",
    "        D[i] = 'nan'\n",
    "        \n",
    "print(D)"
   ]
  },
  {
   "cell_type": "code",
   "execution_count": null,
   "metadata": {
    "collapsed": true
   },
   "outputs": [],
   "source": [
    "x_frames = np.array(range(40))\n",
    "# print(x_frames)\n",
    "# print(max(x_frames))"
   ]
  },
  {
   "cell_type": "markdown",
   "metadata": {},
   "source": [
    "Make graph with all your data. The dark black line is the mean of all the traces, the light gray lines are the individual traces, the blue is the shaded standard error, and the overlaid red dots are all of the \"frames\" that are significantly different relative to the baseline vector."
   ]
  },
  {
   "cell_type": "code",
   "execution_count": null,
   "metadata": {
    "collapsed": false
   },
   "outputs": [],
   "source": [
    "fig_size = [10,7]\n",
    "plt.rcParams[\"figure.figsize\"] = fig_size\n",
    "\n",
    "sns.set_style(\"whitegrid\", {'axes.grid' : False, 'axes.linewidth': 1.5, 'axes.edgecolor': '0', 'axes.labelcolor': '0'})\n",
    "plt.rc('xtick', labelsize=15) \n",
    "plt.rc('ytick', labelsize=15)\n",
    "\n",
    "plt.plot(x, y, 'k-', linewidth=2.0)\n",
    "plt.fill_between(x, y-e, y+e, color='b', alpha=0.5)\n",
    "plt.xlabel('\"Frames\"', size=15)\n",
    "plt.axvline(x=(frame_length), linewidth=2, color='teal', ls='--')\n",
    "# plt.xticks(np.arange(min(x), max(x)+1, 5.0))\n",
    "plt.yticks(np.arange(min(y), max(y)+1, 1))\n",
    "plt.ylabel('AU', size=15)\n",
    "sns.despine()\n",
    "plt.plot(df3, \"grey\", linewidth=0.5, alpha=0.8)\n",
    "plt.xlim([min(x),max(x+1)])\n",
    "plt.plot(x_frames, D, 'ro', markersize = 10)\n",
    "\n",
    "plt.show()"
   ]
  }
 ],
 "metadata": {
  "kernelspec": {
   "display_name": "Python 3",
   "language": "python",
   "name": "python3"
  },
  "language_info": {
   "codemirror_mode": {
    "name": "ipython",
    "version": 3
   },
   "file_extension": ".py",
   "mimetype": "text/x-python",
   "name": "python",
   "nbconvert_exporter": "python",
   "pygments_lexer": "ipython3",
   "version": "3.6.0"
  }
 },
 "nbformat": 4,
 "nbformat_minor": 2
}
